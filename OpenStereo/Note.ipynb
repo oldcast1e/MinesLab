{
 "cells": [
  {
   "cell_type": "markdown",
   "id": "79de769f",
   "metadata": {},
   "source": [
    "# 1단계: OpenStereo 개발 환경 구축"
   ]
  },
  {
   "cell_type": "markdown",
   "id": "223ab82d",
   "metadata": {},
   "source": [
    "### 1. Conda 가상 환경 생성 및 활성화:\n",
    "0.get_started.md 가이드에 따라 openstereo라는 이름의 새 가상 환경을 생성합니다."
   ]
  },
  {
   "cell_type": "markdown",
   "id": "bff6e25c",
   "metadata": {},
   "source": [
    "### 2.필요 라이브러리 설치:\n",
    "PyTorch를 포함한 필수 라이브러리들을 requirements.txt 파일을 이용해 한 번에 설치합니다.\n",
    "터미널 명령어를 이용해서 직접 설치할 것."
   ]
  },
  {
   "cell_type": "code",
   "execution_count": 1,
   "id": "30b7776e",
   "metadata": {},
   "outputs": [
    {
     "ename": "SyntaxError",
     "evalue": "invalid syntax (486937438.py, line 2)",
     "output_type": "error",
     "traceback": [
      "\u001b[0;36m  Cell \u001b[0;32mIn[1], line 2\u001b[0;36m\u001b[0m\n\u001b[0;31m    pip install -r requirements.txt\u001b[0m\n\u001b[0m        ^\u001b[0m\n\u001b[0;31mSyntaxError\u001b[0m\u001b[0;31m:\u001b[0m invalid syntax\n"
     ]
    }
   ],
   "source": [
    "cd /home/mines/Documents/oldcast1e/MinesLab/OpenStereo\n",
    "pip install -r requirements.txt"
   ]
  },
  {
   "cell_type": "markdown",
   "id": "566ff873",
   "metadata": {},
   "source": [
    "# 2단계: LightStereo 사전 학습 모델 다운로드"
   ]
  },
  {
   "cell_type": "markdown",
   "id": "8660ab74",
   "metadata": {},
   "source": [
    "OpenStereo는 다양한 모델의 사전 학습된 가중치(checkpoint)를 Model Zoo를 통해 제공합니다. \n",
    "실시간 성능 테스트를 위해 LightStereo 모델을 다운로드합니다.\n",
    "\n",
    "### 1. 다운로드 링크 확인:\n",
    "docs/1.model_zoo.md 문서 내 KITTI2015 Leadboard 섹션 아래에 있는 체크포인트 다운로드 링크(BaiduDrive 또는 Google Drive)를 찾습니다.\n",
    "\n",
    "### 2. 모델 파일 다운로드 및 저장:\n",
    "링크를 통해 LightStereo 모델(예: lightstereo_s_sceneflow.pth)을 다운로드합니다. \n",
    "다운로드한 파일은 관리를 위해 프로젝트 내 output/ 폴더나 별도의 pretrained_models/ 폴더를 만들어 저장하는 것을 권장합니다."
   ]
  }
 ],
 "metadata": {
  "kernelspec": {
   "display_name": "openstereo",
   "language": "python",
   "name": "python3"
  },
  "language_info": {
   "codemirror_mode": {
    "name": "ipython",
    "version": 3
   },
   "file_extension": ".py",
   "mimetype": "text/x-python",
   "name": "python",
   "nbconvert_exporter": "python",
   "pygments_lexer": "ipython3",
   "version": "3.8.20"
  }
 },
 "nbformat": 4,
 "nbformat_minor": 5
}
